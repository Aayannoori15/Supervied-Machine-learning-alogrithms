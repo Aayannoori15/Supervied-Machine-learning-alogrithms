{
 "cells": [
  {
   "cell_type": "markdown",
   "id": "c6845a8a-53e3-4c26-9ba2-442e6128f5d1",
   "metadata": {},
   "source": [
    "Importing essential libraries "
   ]
  },
  {
   "cell_type": "code",
   "execution_count": 1,
   "id": "0b085f34-f30b-4c5d-968f-1f8baff6bfa7",
   "metadata": {},
   "outputs": [],
   "source": [
    "import numpy as np \n",
    "import pandas as pd \n",
    "from sklearn.preprocessing import MinMaxScaler\n",
    "#we will import sklearn functions parallely "
   ]
  },
  {
   "cell_type": "markdown",
   "id": "00c62b81-9a34-48de-910b-4701967896e3",
   "metadata": {},
   "source": [
    "defining dataset"
   ]
  },
  {
   "cell_type": "code",
   "execution_count": 2,
   "id": "bd12bc17-7ef3-4e77-991e-a44aa6f83a74",
   "metadata": {},
   "outputs": [
    {
     "name": "stdout",
     "output_type": "stream",
     "text": [
      "   Area  Bedrooms   Price\n",
      "0  1000         2  200000\n",
      "1  1500         3  250000\n",
      "2  2000         3  280000\n",
      "3  2500         4  350000\n",
      "4  3000         4  400000\n"
     ]
    }
   ],
   "source": [
    "data = {\n",
    "    'Area': [1000, 1500, 2000, 2500, 3000],\n",
    "    'Bedrooms': [2, 3, 3, 4, 4],\n",
    "    'Price': [200000, 250000, 280000, 350000, 400000]\n",
    "}\n",
    "\n",
    "df = pd.DataFrame(data)\n",
    "print(df)"
   ]
  },
  {
   "cell_type": "markdown",
   "id": "60a5a2b2-73c9-432a-b063-5bd4b09aa433",
   "metadata": {},
   "source": [
    "feature scaling "
   ]
  },
  {
   "cell_type": "code",
   "execution_count": 3,
   "id": "fd679f3f-e459-4216-be50-e2bf3198db98",
   "metadata": {},
   "outputs": [
    {
     "name": "stdout",
     "output_type": "stream",
     "text": [
      "   Area  Bedrooms   Price  scaled_area\n",
      "0  1000         2  200000         0.00\n",
      "1  1500         3  250000         0.25\n",
      "2  2000         3  280000         0.50\n",
      "3  2500         4  350000         0.75\n",
      "4  3000         4  400000         1.00\n"
     ]
    }
   ],
   "source": [
    "MMS=MinMaxScaler()\n",
    "df['scaled_area']=MMS.fit_transform(df[['Area']])\n",
    "print(df)\n"
   ]
  },
  {
   "cell_type": "markdown",
   "id": "b8ffa22d-b92e-45a2-a4da-86f8d9fa4af7",
   "metadata": {},
   "source": [
    "splitting dataset for training and testing "
   ]
  },
  {
   "cell_type": "code",
   "execution_count": 4,
   "id": "27a0d6f4-9ffd-4aa2-9c52-97e20cf8d467",
   "metadata": {},
   "outputs": [],
   "source": [
    "from sklearn.model_selection import train_test_split\n",
    "x_train,x_test,y_train,y_test=train_test_split(df[['scaled_area','Bedrooms']],df[['Price']],test_size=0.2,random_state=42)"
   ]
  },
  {
   "cell_type": "markdown",
   "id": "6e956850-d746-4a7f-b7eb-ea43bcbc924b",
   "metadata": {},
   "source": [
    "now lets create a linear regression model to predict prices of house "
   ]
  },
  {
   "cell_type": "code",
   "execution_count": 10,
   "id": "120282b7-921e-4071-b1b1-a947dff31a4b",
   "metadata": {},
   "outputs": [],
   "source": [
    "from sklearn.linear_model import LinearRegression\n",
    "lrmodel=LinearRegression()\n",
    "X=x_train\n",
    "y=y_train\n",
    "lrmodel.fit(X,y)\n",
    "predictedvalue=lrmodel.predict(x_test)[0]"
   ]
  },
  {
   "cell_type": "code",
   "execution_count": 12,
   "id": "7d8eebcc-0260-4c5a-a8e1-f557bd2dfae7",
   "metadata": {},
   "outputs": [
    {
     "name": "stdout",
     "output_type": "stream",
     "text": [
      "test parameter taken\n",
      "   scaled_area  Bedrooms\n",
      "1         0.25         3\n",
      "output\n",
      "\n",
      "predicted price is : [250000.]\n"
     ]
    }
   ],
   "source": [
    "print('test parameter taken')\n",
    "print(x_test)\n",
    "print('output\\n')\n",
    "print('predicted price is :',predictedvalue)"
   ]
  },
  {
   "cell_type": "code",
   "execution_count": null,
   "id": "bc5cf565-ec86-4812-bf43-3d8a79650990",
   "metadata": {},
   "outputs": [],
   "source": []
  }
 ],
 "metadata": {
  "kernelspec": {
   "display_name": "Python 3 (ipykernel)",
   "language": "python",
   "name": "python3"
  },
  "language_info": {
   "codemirror_mode": {
    "name": "ipython",
    "version": 3
   },
   "file_extension": ".py",
   "mimetype": "text/x-python",
   "name": "python",
   "nbconvert_exporter": "python",
   "pygments_lexer": "ipython3",
   "version": "3.13.5"
  }
 },
 "nbformat": 4,
 "nbformat_minor": 5
}
