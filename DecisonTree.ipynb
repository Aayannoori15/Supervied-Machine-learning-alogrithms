{
 "cells": [
  {
   "cell_type": "markdown",
   "id": "281fa527-3b9d-4e94-be54-8b46f3709f7c",
   "metadata": {},
   "source": [
    "importing necessary library"
   ]
  },
  {
   "cell_type": "code",
   "execution_count": 1,
   "id": "246e7617-c85c-4bab-8e2f-3c64d8ac0814",
   "metadata": {},
   "outputs": [],
   "source": [
    "import pandas as pd \n",
    "import numpy as np "
   ]
  },
  {
   "cell_type": "markdown",
   "id": "b02c3bd0-5b5c-459e-9bf4-e2edd214055f",
   "metadata": {},
   "source": [
    "creating dataframe "
   ]
  },
  {
   "cell_type": "code",
   "execution_count": 2,
   "id": "5a9943b8-3a4d-4c65-a0f6-1d2b213aeac9",
   "metadata": {},
   "outputs": [
    {
     "name": "stdout",
     "output_type": "stream",
     "text": [
      "     Weather Temperature Humidity    Wind Play\n",
      "0      Sunny         Hot     High    Weak   No\n",
      "1      Sunny         Hot     High  Strong   No\n",
      "2   Overcast         Hot     High    Weak  Yes\n",
      "3      Rainy        Mild     High    Weak  Yes\n",
      "4      Rainy        Cool   Normal    Weak  Yes\n",
      "5      Rainy        Cool   Normal  Strong   No\n",
      "6   Overcast        Cool   Normal  Strong  Yes\n",
      "7      Sunny        Mild     High    Weak   No\n",
      "8      Sunny        Cool   Normal    Weak  Yes\n",
      "9      Rainy        Mild   Normal    Weak  Yes\n",
      "10     Sunny        Mild   Normal  Strong  Yes\n",
      "11  Overcast        Mild     High  Strong  Yes\n",
      "12  Overcast         Hot   Normal    Weak  Yes\n",
      "13     Rainy        Mild     High  Strong   No\n"
     ]
    }
   ],
   "source": [
    "data = {\n",
    "    'Weather': ['Sunny', 'Sunny', 'Overcast', 'Rainy', 'Rainy', 'Rainy', 'Overcast', 'Sunny', 'Sunny', 'Rainy', 'Sunny', 'Overcast', 'Overcast', 'Rainy'],\n",
    "    'Temperature': ['Hot', 'Hot', 'Hot', 'Mild', 'Cool', 'Cool', 'Cool', 'Mild', 'Cool', 'Mild', 'Mild', 'Mild', 'Hot', 'Mild'],\n",
    "    'Humidity': ['High', 'High', 'High', 'High', 'Normal', 'Normal', 'Normal', 'High', 'Normal', 'Normal', 'Normal', 'High', 'Normal', 'High'],\n",
    "    'Wind': ['Weak', 'Strong', 'Weak', 'Weak', 'Weak', 'Strong', 'Strong', 'Weak', 'Weak', 'Weak', 'Strong', 'Strong', 'Weak', 'Strong'],\n",
    "    'Play': ['No', 'No', 'Yes', 'Yes', 'Yes', 'No', 'Yes', 'No', 'Yes', 'Yes', 'Yes', 'Yes', 'Yes', 'No']\n",
    "}\n",
    "\n",
    "df = pd.DataFrame(data)\n",
    "print(df)"
   ]
  },
  {
   "cell_type": "markdown",
   "id": "9b73d289-ac3e-4d2f-bc18-e6c9e0274473",
   "metadata": {},
   "source": [
    "encoding data from string to numeric values "
   ]
  },
  {
   "cell_type": "code",
   "execution_count": 9,
   "id": "f90b1fc2-056d-49bf-bfc2-4d9d4170cd8a",
   "metadata": {},
   "outputs": [],
   "source": [
    "from sklearn.preprocessing import LabelEncoder\n",
    "le=LabelEncoder()\n",
    "df['encoded_Weather']=le.fit_transform(df['Weather'])\n",
    "df['encoded_Temperature']=le.fit_transform(df['Temperature'])\n",
    "df['encoded_Humidity']=le.fit_transform(df['Humidity'])\n",
    "df['encoded_Wind']=le.fit_transform(df['Wind'])\n",
    "df['encoded_Play']=le.fit_transform(df['Play'])"
   ]
  },
  {
   "cell_type": "markdown",
   "id": "4520e1f4-2d7a-4dd9-9f55-09703b18dbe0",
   "metadata": {},
   "source": [
    "splitting data for testing and training "
   ]
  },
  {
   "cell_type": "code",
   "execution_count": 10,
   "id": "94d060c2-978c-4a75-8d37-b8b9eb31b8ce",
   "metadata": {},
   "outputs": [],
   "source": [
    "from sklearn.model_selection import train_test_split\n",
    "x_train,x_test,y_train,y_test=train_test_split(df[['encoded_Weather','encoded_Temperature','encoded_Humidity','encoded_Wind']],df[['Play']],test_size=0.3,random_state=42)"
   ]
  },
  {
   "cell_type": "markdown",
   "id": "4cad9a3e-62ac-402e-9c9a-7c9e9dfda5b2",
   "metadata": {},
   "source": [
    "training model"
   ]
  },
  {
   "cell_type": "code",
   "execution_count": 11,
   "id": "f5adcbbf-b223-4063-986e-101ccdedeaee",
   "metadata": {},
   "outputs": [],
   "source": [
    "from sklearn.tree import DecisionTreeClassifier \n",
    "DTmodel=DecisionTreeClassifier()\n",
    "DTmodel.fit(x_train,y_train)\n",
    "prediction=DTmodel.predict(x_test)"
   ]
  },
  {
   "cell_type": "markdown",
   "id": "59082ea8-4bbd-4861-a2ed-8ccf88d4b390",
   "metadata": {},
   "source": [
    "Prediction by the model"
   ]
  },
  {
   "cell_type": "code",
   "execution_count": 12,
   "id": "39f6ee49-13dc-4ee3-ac28-2afe9b8e5acc",
   "metadata": {},
   "outputs": [
    {
     "name": "stdout",
     "output_type": "stream",
     "text": [
      "test data input is \n",
      "    encoded_Weather  encoded_Temperature  encoded_Humidity  encoded_Wind\n",
      "9                 1                    2                 1             1\n",
      "11                0                    2                 0             0\n",
      "0                 2                    1                 0             1\n",
      "12                0                    1                 1             1\n",
      "5                 1                    0                 1             0\n",
      "predicted output is\n",
      "['Yes' 'No' 'No' 'Yes' 'Yes']\n"
     ]
    }
   ],
   "source": [
    "print('test data input is ')\n",
    "print(x_test)\n",
    "print('predicted output is')\n",
    "print(prediction)"
   ]
  },
  {
   "cell_type": "code",
   "execution_count": null,
   "id": "f7337a9a-957d-4bd6-acde-d0775f66524d",
   "metadata": {},
   "outputs": [],
   "source": []
  }
 ],
 "metadata": {
  "kernelspec": {
   "display_name": "Python 3 (ipykernel)",
   "language": "python",
   "name": "python3"
  },
  "language_info": {
   "codemirror_mode": {
    "name": "ipython",
    "version": 3
   },
   "file_extension": ".py",
   "mimetype": "text/x-python",
   "name": "python",
   "nbconvert_exporter": "python",
   "pygments_lexer": "ipython3",
   "version": "3.13.5"
  }
 },
 "nbformat": 4,
 "nbformat_minor": 5
}
