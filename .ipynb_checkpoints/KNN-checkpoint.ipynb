{
 "cells": [
  {
   "cell_type": "markdown",
   "id": "6aa2560b-79a9-4f50-8912-5d6dcc5c9ea1",
   "metadata": {},
   "source": [
    "importing all essential libraries "
   ]
  },
  {
   "cell_type": "code",
   "execution_count": 1,
   "id": "76d188f6-bea7-4d3c-89f8-44efe58b0f96",
   "metadata": {},
   "outputs": [],
   "source": [
    "import pandas as pd\n",
    "import numpy as np"
   ]
  },
  {
   "cell_type": "markdown",
   "id": "1c2e30a8-6373-4d20-89b8-f3e0fe5bb31d",
   "metadata": {},
   "source": [
    "importing dataset"
   ]
  },
  {
   "cell_type": "code",
   "execution_count": 2,
   "id": "4ffdfae8-d2b9-4841-8b30-0e17e7a15694",
   "metadata": {},
   "outputs": [
    {
     "name": "stdout",
     "output_type": "stream",
     "text": [
      "   Age  Salary  Buys_Product\n",
      "0   25   40000             0\n",
      "1   30   50000             0\n",
      "2   45   80000             1\n",
      "3   20   20000             0\n",
      "4   35   60000             1\n",
      "5   52  100000             1\n",
      "6   23   25000             0\n",
      "7   40   75000             1\n"
     ]
    }
   ],
   "source": [
    "data = {\n",
    "    'Age': [25, 30, 45, 20, 35, 52, 23, 40],\n",
    "    'Salary': [40000, 50000, 80000, 20000, 60000, 100000, 25000, 75000],\n",
    "    'Buys_Product': [0, 0, 1, 0, 1, 1, 0, 1]\n",
    "}\n",
    "\n",
    "df = pd.DataFrame(data)\n",
    "print(df)"
   ]
  },
  {
   "cell_type": "markdown",
   "id": "8d9769f1-a23f-46d9-acef-1c88953b5c7d",
   "metadata": {},
   "source": [
    "Splitting data for testing and training "
   ]
  },
  {
   "cell_type": "code",
   "execution_count": 4,
   "id": "9539ca12-a4f5-42d1-9000-50d9f593ca39",
   "metadata": {},
   "outputs": [],
   "source": [
    "from sklearn.model_selection import train_test_split\n",
    "x_train,x_test,y_train,y_test=train_test_split(df[['Age','Salary']],df['Buys_Product'],test_size=0.2,random_state=42)\n"
   ]
  },
  {
   "cell_type": "markdown",
   "id": "d7ded93d-006f-47c3-94c7-bd9ae3cbe625",
   "metadata": {},
   "source": [
    "training model"
   ]
  },
  {
   "cell_type": "code",
   "execution_count": 9,
   "id": "034db4c0-c3fc-4f10-9cde-ee1ee74ec471",
   "metadata": {},
   "outputs": [],
   "source": [
    "from sklearn.neighbors import KNeighborsClassifier\n",
    "KNNmodel=KNeighborsClassifier(n_neighbors=3)\n",
    "KNNmodel.fit(x_train,y_train)\n",
    "prediction=KNNmodel.predict(x_test)"
   ]
  },
  {
   "cell_type": "markdown",
   "id": "eb81fa15-1535-40f8-90dd-62a311f0961d",
   "metadata": {},
   "source": [
    "Prediction by model"
   ]
  },
  {
   "cell_type": "code",
   "execution_count": 10,
   "id": "ffd45237-f170-4ba0-b937-ffac13d47a99",
   "metadata": {},
   "outputs": [
    {
     "name": "stdout",
     "output_type": "stream",
     "text": [
      "test input is \n",
      "   Age  Salary\n",
      "1   30   50000\n",
      "5   52  100000\n",
      "predicted value is \n",
      "[0 1]\n"
     ]
    }
   ],
   "source": [
    "print('test input is ')\n",
    "print(x_test)\n",
    "print('predicted value is ')\n",
    "print(prediction)"
   ]
  },
  {
   "cell_type": "code",
   "execution_count": null,
   "id": "5fd5bb08-b5a4-4f1c-b6db-c2c04560d9ed",
   "metadata": {},
   "outputs": [],
   "source": []
  }
 ],
 "metadata": {
  "kernelspec": {
   "display_name": "Python 3 (ipykernel)",
   "language": "python",
   "name": "python3"
  },
  "language_info": {
   "codemirror_mode": {
    "name": "ipython",
    "version": 3
   },
   "file_extension": ".py",
   "mimetype": "text/x-python",
   "name": "python",
   "nbconvert_exporter": "python",
   "pygments_lexer": "ipython3",
   "version": "3.13.5"
  }
 },
 "nbformat": 4,
 "nbformat_minor": 5
}
