{
 "cells": [
  {
   "cell_type": "code",
   "execution_count": 1,
   "id": "9be8d123",
   "metadata": {
    "_cell_guid": "b1076dfc-b9ad-4769-8c92-a6c4dae69d19",
    "_uuid": "8f2839f25d086af736a60e9eeb907d3b93b6e0e5",
    "execution": {
     "iopub.execute_input": "2025-10-23T15:29:54.109456Z",
     "iopub.status.busy": "2025-10-23T15:29:54.109146Z",
     "iopub.status.idle": "2025-10-23T15:29:56.231209Z",
     "shell.execute_reply": "2025-10-23T15:29:56.230065Z"
    },
    "papermill": {
     "duration": 2.128248,
     "end_time": "2025-10-23T15:29:56.232758",
     "exception": false,
     "start_time": "2025-10-23T15:29:54.104510",
     "status": "completed"
    },
    "tags": []
   },
   "outputs": [
    {
     "name": "stdout",
     "output_type": "stream",
     "text": [
      "/kaggle/input/student-marks-dataset/Student_Marks.csv\n"
     ]
    }
   ],
   "source": [
    "# This Python 3 environment comes with many helpful analytics libraries installed\n",
    "# It is defined by the kaggle/python Docker image: https://github.com/kaggle/docker-python\n",
    "# For example, here's several helpful packages to load\n",
    "\n",
    "import numpy as np # linear algebra\n",
    "import pandas as pd \n",
    "# data processing, CSV file I/O (e.g. pd.read_csv)\n",
    "import matplotlib.pyplot as plt\n",
    "# Input data files are available in the read-only \"../input/\" directory\n",
    "# For example, running this (by clicking run or pressing Shift+Enter) will list all files under the input directory\n",
    "file='/kaggle/input/student-marks-dataset/Student_Marks.csv'\n",
    "df=pd.read_csv(file)\n",
    "import os\n",
    "for dirname, _, filenames in os.walk('/kaggle/input'):\n",
    "    for filename in filenames:\n",
    "        print(os.path.join(dirname, filename))\n",
    "\n",
    "# You can write up to 20GB to the current directory (/kaggle/working/) that gets preserved as output when you create a version using \"Save & Run All\" \n",
    "# You can also write temporary files to /kaggle/temp/, but they won't be saved outside of the current session"
   ]
  },
  {
   "cell_type": "markdown",
   "id": "c46c7c8a",
   "metadata": {
    "papermill": {
     "duration": 0.002233,
     "end_time": "2025-10-23T15:29:56.237861",
     "exception": false,
     "start_time": "2025-10-23T15:29:56.235628",
     "status": "completed"
    },
    "tags": []
   },
   "source": [
    "Understanding Data frame "
   ]
  },
  {
   "cell_type": "code",
   "execution_count": 2,
   "id": "3cca0666",
   "metadata": {
    "execution": {
     "iopub.execute_input": "2025-10-23T15:29:56.244101Z",
     "iopub.status.busy": "2025-10-23T15:29:56.243681Z",
     "iopub.status.idle": "2025-10-23T15:29:56.582213Z",
     "shell.execute_reply": "2025-10-23T15:29:56.581125Z"
    },
    "papermill": {
     "duration": 0.343595,
     "end_time": "2025-10-23T15:29:56.583913",
     "exception": false,
     "start_time": "2025-10-23T15:29:56.240318",
     "status": "completed"
    },
    "tags": []
   },
   "outputs": [
    {
     "name": "stdout",
     "output_type": "stream",
     "text": [
      "   number_courses  time_study   Marks\n",
      "0               3       4.508  19.202\n",
      "1               4       0.096   7.734\n",
      "2               4       3.133  13.811\n",
      "3               6       7.909  53.018\n",
      "4               8       7.811  55.299\n",
      "(100, 3)\n"
     ]
    },
    {
     "data": {
      "text/plain": [
       "[<matplotlib.lines.Line2D at 0x7c467e4f6190>]"
      ]
     },
     "execution_count": 2,
     "metadata": {},
     "output_type": "execute_result"
    },
    {
     "data": {
      "image/png": "[encoded data removed]",
      "text/plain": [
       "<Figure size 1200x600 with 1 Axes>"
      ]
     },
     "metadata": {},
     "output_type": "display_data"
    }
   ],
   "source": [
    "print(df.head(5))\n",
    "print(df.shape)\n",
    "plt.figure(figsize=(12,6))\n",
    "plt.title('time Vs marks')\n",
    "plt.plot(df['time_study'],df['Marks'],'ro')"
   ]
  },
  {
   "cell_type": "markdown",
   "id": "20056c9c",
   "metadata": {
    "papermill": {
     "duration": 0.002703,
     "end_time": "2025-10-23T15:29:56.589958",
     "exception": false,
     "start_time": "2025-10-23T15:29:56.587255",
     "status": "completed"
    },
    "tags": []
   },
   "source": [
    "splitting data for testing and training "
   ]
  },
  {
   "cell_type": "code",
   "execution_count": 3,
   "id": "552c0937",
   "metadata": {
    "execution": {
     "iopub.execute_input": "2025-10-23T15:29:56.597006Z",
     "iopub.status.busy": "2025-10-23T15:29:56.596670Z",
     "iopub.status.idle": "2025-10-23T15:29:58.399038Z",
     "shell.execute_reply": "2025-10-23T15:29:58.398105Z"
    },
    "papermill": {
     "duration": 1.808009,
     "end_time": "2025-10-23T15:29:58.400812",
     "exception": false,
     "start_time": "2025-10-23T15:29:56.592803",
     "status": "completed"
    },
    "tags": []
   },
   "outputs": [],
   "source": [
    "from sklearn.model_selection import train_test_split \n",
    "x_train,x_test,y_train,y_test=train_test_split(df[['number_courses','time_study']],df['Marks'],test_size=0.3,random_state=42)\n"
   ]
  },
  {
   "cell_type": "markdown",
   "id": "8c6477f9",
   "metadata": {
    "papermill": {
     "duration": 0.003228,
     "end_time": "2025-10-23T15:29:58.407701",
     "exception": false,
     "start_time": "2025-10-23T15:29:58.404473",
     "status": "completed"
    },
    "tags": []
   },
   "source": [
    "Training the model"
   ]
  },
  {
   "cell_type": "code",
   "execution_count": 4,
   "id": "be66f513",
   "metadata": {
    "execution": {
     "iopub.execute_input": "2025-10-23T15:29:58.415027Z",
     "iopub.status.busy": "2025-10-23T15:29:58.414550Z",
     "iopub.status.idle": "2025-10-23T15:29:58.589179Z",
     "shell.execute_reply": "2025-10-23T15:29:58.588286Z"
    },
    "papermill": {
     "duration": 0.179997,
     "end_time": "2025-10-23T15:29:58.590628",
     "exception": false,
     "start_time": "2025-10-23T15:29:58.410631",
     "status": "completed"
    },
    "tags": []
   },
   "outputs": [
    {
     "data": {
      "text/html": [
       "<style>#sk-container-id-1 {color: black;background-color: white;}#sk-container-id-1 pre{padding: 0;}#sk-container-id-1 div.sk-toggleable {background-color: white;}#sk-container-id-1 label.sk-toggleable__label {cursor: pointer;display: block;width: 100%;margin-bottom: 0;padding: 0.3em;box-sizing: border-box;text-align: center;}#sk-container-id-1 label.sk-toggleable__label-arrow:before {content: \"▸\";float: left;margin-right: 0.25em;color: #696969;}#sk-container-id-1 label.sk-toggleable__label-arrow:hover:before {color: black;}#sk-container-id-1 div.sk-estimator:hover label.sk-toggleable__label-arrow:before {color: black;}#sk-container-id-1 div.sk-toggleable__content {max-height: 0;max-width: 0;overflow: hidden;text-align: left;background-color: #f0f8ff;}#sk-container-id-1 div.sk-toggleable__content pre {margin: 0.2em;color: black;border-radius: 0.25em;background-color: #f0f8ff;}#sk-container-id-1 input.sk-toggleable__control:checked~div.sk-toggleable__content {max-height: 200px;max-width: 100%;overflow: auto;}#sk-container-id-1 input.sk-toggleable__control:checked~label.sk-toggleable__label-arrow:before {content: \"▾\";}#sk-container-id-1 div.sk-estimator input.sk-toggleable__control:checked~label.sk-toggleable__label {background-color: #d4ebff;}#sk-container-id-1 div.sk-label input.sk-toggleable__control:checked~label.sk-toggleable__label {background-color: #d4ebff;}#sk-container-id-1 input.sk-hidden--visually {border: 0;clip: rect(1px 1px 1px 1px);clip: rect(1px, 1px, 1px, 1px);height: 1px;margin: -1px;overflow: hidden;padding: 0;position: absolute;width: 1px;}#sk-container-id-1 div.sk-estimator {font-family: monospace;background-color: #f0f8ff;border: 1px dotted black;border-radius: 0.25em;box-sizing: border-box;margin-bottom: 0.5em;}#sk-container-id-1 div.sk-estimator:hover {background-color: #d4ebff;}#sk-container-id-1 div.sk-parallel-item::after {content: \"\";width: 100%;border-bottom: 1px solid gray;flex-grow: 1;}#sk-container-id-1 div.sk-label:hover label.sk-toggleable__label {background-color: #d4ebff;}#sk-container-id-1 div.sk-serial::before {content: \"\";position: absolute;border-left: 1px solid gray;box-sizing: border-box;top: 0;bottom: 0;left: 50%;z-index: 0;}#sk-container-id-1 div.sk-serial {display: flex;flex-direction: column;align-items: center;background-color: white;padding-right: 0.2em;padding-left: 0.2em;position: relative;}#sk-container-id-1 div.sk-item {position: relative;z-index: 1;}#sk-container-id-1 div.sk-parallel {display: flex;align-items: stretch;justify-content: center;background-color: white;position: relative;}#sk-container-id-1 div.sk-item::before, #sk-container-id-1 div.sk-parallel-item::before {content: \"\";position: absolute;border-left: 1px solid gray;box-sizing: border-box;top: 0;bottom: 0;left: 50%;z-index: -1;}#sk-container-id-1 div.sk-parallel-item {display: flex;flex-direction: column;z-index: 1;position: relative;background-color: white;}#sk-container-id-1 div.sk-parallel-item:first-child::after {align-self: flex-end;width: 50%;}#sk-container-id-1 div.sk-parallel-item:last-child::after {align-self: flex-start;width: 50%;}#sk-container-id-1 div.sk-parallel-item:only-child::after {width: 0;}#sk-container-id-1 div.sk-dashed-wrapped {border: 1px dashed gray;margin: 0 0.4em 0.5em 0.4em;box-sizing: border-box;padding-bottom: 0.4em;background-color: white;}#sk-container-id-1 div.sk-label label {font-family: monospace;font-weight: bold;display: inline-block;line-height: 1.2em;}#sk-container-id-1 div.sk-label-container {text-align: center;}#sk-container-id-1 div.sk-container {/* jupyter's `normalize.less` sets `[hidden] { display: none; }` but bootstrap.min.css set `[hidden] { display: none !important; }` so we also need the `!important` here to be able to override the default hidden behavior on the sphinx rendered scikit-learn.org. See: https://github.com/scikit-learn/scikit-learn/issues/21755 */display: inline-block !important;position: relative;}#sk-container-id-1 div.sk-text-repr-fallback {display: none;}</style><div id=\"sk-container-id-1\" class=\"sk-top-container\"><div class=\"sk-text-repr-fallback\"><pre>LinearRegression()</pre><b>In a Jupyter environment, please rerun this cell to show the HTML representation or trust the notebook. <br />On GitHub, the HTML representation is unable to render, please try loading this page with nbviewer.org.</b></div><div class=\"sk-container\" hidden><div class=\"sk-item\"><div class=\"sk-estimator sk-toggleable\"><input class=\"sk-toggleable__control sk-hidden--visually\" id=\"sk-estimator-id-1\" type=\"checkbox\" checked><label for=\"sk-estimator-id-1\" class=\"sk-toggleable__label sk-toggleable__label-arrow\">LinearRegression</label><div class=\"sk-toggleable__content\"><pre>LinearRegression()</pre></div></div></div></div></div>"
      ],
      "text/plain": [
       "LinearRegression()"
      ]
     },
     "execution_count": 4,
     "metadata": {},
     "output_type": "execute_result"
    }
   ],
   "source": [
    "from sklearn.linear_model import LinearRegression\n",
    "lrModel=LinearRegression()\n",
    "lrModel.fit(x_train,y_train)\n"
   ]
  },
  {
   "cell_type": "markdown",
   "id": "f7b2b872",
   "metadata": {
    "papermill": {
     "duration": 0.003017,
     "end_time": "2025-10-23T15:29:58.597147",
     "exception": false,
     "start_time": "2025-10-23T15:29:58.594130",
     "status": "completed"
    },
    "tags": []
   },
   "source": [
    "plotting Model accuracy "
   ]
  },
  {
   "cell_type": "code",
   "execution_count": 5,
   "id": "f1f1d22a",
   "metadata": {
    "execution": {
     "iopub.execute_input": "2025-10-23T15:29:58.605160Z",
     "iopub.status.busy": "2025-10-23T15:29:58.604327Z",
     "iopub.status.idle": "2025-10-23T15:29:58.917308Z",
     "shell.execute_reply": "2025-10-23T15:29:58.916302Z"
    },
    "papermill": {
     "duration": 0.318511,
     "end_time": "2025-10-23T15:29:58.918771",
     "exception": false,
     "start_time": "2025-10-23T15:29:58.600260",
     "status": "completed"
    },
    "tags": []
   },
   "outputs": [
    {
     "data": {
      "text/plain": [
       "Text(0, 0.5, 'model prediction')"
      ]
     },
     "execution_count": 5,
     "metadata": {},
     "output_type": "execute_result"
    },
    {
     "data": {
      "image/png": "[encoded data removed]",
      "text/plain": [
       "<Figure size 1200x600 with 1 Axes>"
      ]
     },
     "metadata": {},
     "output_type": "display_data"
    }
   ],
   "source": [
    "plt.figure(figsize=(12,6))\n",
    "plt.title('Model prediction')\n",
    "plt.plot(x_test,lrModel.predict(x_test),'bo')\n",
    "plt.xlabel('test inputs')\n",
    "plt.ylabel('model prediction')"
   ]
  },
  {
   "cell_type": "markdown",
   "id": "2ec2d71d",
   "metadata": {
    "papermill": {
     "duration": 0.003672,
     "end_time": "2025-10-23T15:29:58.926494",
     "exception": false,
     "start_time": "2025-10-23T15:29:58.922822",
     "status": "completed"
    },
    "tags": []
   },
   "source": [
    "As we can see there is a lot of inaccurary of the trained model so now lets find the evalution of this model"
   ]
  },
  {
   "cell_type": "code",
   "execution_count": 6,
   "id": "3797ca5e",
   "metadata": {
    "execution": {
     "iopub.execute_input": "2025-10-23T15:29:58.935599Z",
     "iopub.status.busy": "2025-10-23T15:29:58.935005Z",
     "iopub.status.idle": "2025-10-23T15:29:58.945911Z",
     "shell.execute_reply": "2025-10-23T15:29:58.944935Z"
    },
    "papermill": {
     "duration": 0.017271,
     "end_time": "2025-10-23T15:29:58.947498",
     "exception": false,
     "start_time": "2025-10-23T15:29:58.930227",
     "status": "completed"
    },
    "tags": []
   },
   "outputs": [
    {
     "name": "stdout",
     "output_type": "stream",
     "text": [
      "mean absolute error is  3.0284743686391677\n",
      "mean square error is  13.104475429070757\n",
      "root mean squared error is  3.620010418364947\n"
     ]
    }
   ],
   "source": [
    "from sklearn.metrics import mean_absolute_error, mean_squared_error, r2_score\n",
    "print('mean absolute error is ',mean_absolute_error(y_test,lrModel.predict(x_test)))\n",
    "print('mean square error is ',mean_squared_error(y_test,lrModel.predict(x_test)))\n",
    "print('root mean squared error is ',np.sqrt(mean_squared_error(y_test,lrModel.predict(x_test))))"
   ]
  }
 ],
 "metadata": {
  "kaggle": {
   "accelerator": "none",
   "dataSources": [
    {
     "datasetId": 1839803,
     "sourceId": 3003315,
     "sourceType": "datasetVersion"
    }
   ],
   "dockerImageVersionId": 31153,
   "isGpuEnabled": false,
   "isInternetEnabled": true,
   "language": "python",
   "sourceType": "notebook"
  },
  "kernelspec": {
   "display_name": "Python 3",
   "language": "python",
   "name": "python3"
  },
  "language_info": {
   "codemirror_mode": {
    "name": "ipython",
    "version": 3
   },
   "file_extension": ".py",
   "mimetype": "text/x-python",
   "name": "python",
   "nbconvert_exporter": "python",
   "pygments_lexer": "ipython3",
   "version": "3.11.13"
  },
  "papermill": {
   "default_parameters": {},
   "duration": 10.80605,
   "end_time": "2025-10-23T15:29:59.672543",
   "environment_variables": {},
   "exception": null,
   "input_path": "__notebook__.ipynb",
   "output_path": "__notebook__.ipynb",
   "parameters": {},
   "start_time": "2025-10-23T15:29:48.866493",
   "version": "2.6.0"
  }
 },
 "nbformat": 4,
 "nbformat_minor": 5
}
